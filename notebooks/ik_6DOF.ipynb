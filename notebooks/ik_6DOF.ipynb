{
 "cells": [
  {
   "cell_type": "code",
   "execution_count": 1,
   "id": "ee530f51",
   "metadata": {},
   "outputs": [],
   "source": [
    "import os, sys\n",
    "parent_dir = os.path.abspath(os.path.join(os.curdir, '..'))\n",
    "if parent_dir not in sys.path:\n",
    "    sys.path.append(parent_dir)\n",
    "import numpy as np\n",
    "from src.ik_net import *\n",
    "from pydrake.all import (\n",
    "    MultibodyPlant,\n",
    "    StartMeshcat,\n",
    ")\n",
    "from src.utils import RepoDir, BuildEnv, extract_xyzrpy\n"
   ]
  },
  {
   "cell_type": "code",
   "execution_count": 2,
   "id": "19a26560",
   "metadata": {},
   "outputs": [
    {
     "name": "stderr",
     "output_type": "stream",
     "text": [
      "INFO:drake:Meshcat listening for connections at http://localhost:7001\n",
      "100%|██████████| 78125/78125 [00:00<00:00, 120442.16it/s]\n"
     ]
    }
   ],
   "source": [
    "meshcat = StartMeshcat()\n",
    "diagram = BuildEnv(meshcat, directives_file = os.path.join(RepoDir(), \"models/iiwa_collision.yaml\"))\n",
    "ee_frame = diagram.GetSubsystemByName(\"plant\").GetFrameByName(\"body\")\n",
    "\n",
    "dataset = IKDataset(diagram, ee_frame)\n",
    "\n",
    "joint_angles, targets = dataset.create_data(5**7, manifold = [1, 1, 1], matrix=True)\n",
    "\n",
    "X = np.concatenate([targets, joint_angles[:, 0:1]], axis=1)\n",
    "y = joint_angles\n",
    "\n",
    "model = LinearModule(X.shape[1], 7, hidden_layers = [64, 64], dropout_rate=0.0)\n",
    "optimizer = torch.optim.Adam(model.parameters(), lr=1e-2)\n",
    "loss_fn = torch.nn.MSELoss()\n",
    "\n",
    "\n",
    "\n",
    "X_train, X_test, y_train, y_test = train_test_split(X, y, test_size=0.2)\n",
    "\n",
    "\n",
    "# losses = train_model(model, optimizer, loss_fn, X_train, y_train, epochs=1000, batch_size=2048)\n",
    "# evaluate_model(model, loss_fn, X_test, y_test, dataset)"
   ]
  },
  {
   "cell_type": "code",
   "execution_count": 11,
   "id": "5fd56e5f",
   "metadata": {},
   "outputs": [
    {
     "data": {
      "image/png": "[encoded data removed]",
      "text/plain": [
       "<Figure size 640x480 with 1 Axes>"
      ]
     },
     "metadata": {},
     "output_type": "display_data"
    }
   ],
   "source": [
    "import matplotlib.pyplot as plt\n",
    "\n",
    "plt.plot(losses)\n",
    "plt.xlabel('Epoch')\n",
    "plt.ylabel('Loss')\n",
    "plt.title('Training Loss')\n",
    "# plt.yscale('log')  # optional: useful if loss decreases a lot\n",
    "plt.show()"
   ]
  },
  {
   "cell_type": "code",
   "execution_count": 9,
   "id": "fbd47b0c",
   "metadata": {},
   "outputs": [
    {
     "name": "stdout",
     "output_type": "stream",
     "text": [
      "tensor([ 2.6931,  1.6616, -1.9657,  0.9957, -2.2489,  0.6748,  2.9113])\n"
     ]
    },
    {
     "data": {
      "text/plain": [
       "tensor([ 2.6505,  2.0579, -1.6534,  0.7292,  0.1248,  0.7395, -0.0949],\n",
       "       grad_fn=<ViewBackward0>)"
      ]
     },
     "execution_count": 9,
     "metadata": {},
     "output_type": "execute_result"
    }
   ],
   "source": [
    "X_tensor = torch.FloatTensor(X)\n",
    "y_tensor = torch.FloatTensor(y)\n",
    "\n",
    "optimizer.zero_grad()\n",
    "print(y_tensor[1])\n",
    "model(X_tensor[1])"
   ]
  },
  {
   "cell_type": "code",
   "execution_count": 13,
   "id": "55c9d860",
   "metadata": {},
   "outputs": [
    {
     "data": {
      "text/plain": [
       "array([ 2.69314317,  1.66155257, -1.96566807,  0.99573811, -2.24894115,\n",
       "        0.67480338,  2.91133211])"
      ]
     },
     "execution_count": 13,
     "metadata": {},
     "output_type": "execute_result"
    }
   ],
   "source": [
    "joint_angles[1]"
   ]
  },
  {
   "cell_type": "code",
   "execution_count": 3,
   "id": "1e59878c",
   "metadata": {},
   "outputs": [
    {
     "name": "stderr",
     "output_type": "stream",
     "text": [
      "  0%|          | 0/100 [00:00<?, ?it/s]/Users/lunatang/Projects/Urops/Drake/code/ik-net-optimization/drake-env/lib/python3.13/site-packages/torch/optim/lbfgs.py:457: UserWarning: Converting a tensor with requires_grad=True to a scalar may lead to unexpected behavior.\n",
      "Consider using tensor.detach() first. (Triggered internally at /Users/runner/work/pytorch/pytorch/pytorch/torch/csrc/autograd/generated/python_variable_methods.cpp:836.)\n",
      "  loss = float(closure())\n",
      "  1%|          | 1/100 [00:00<00:49,  1.98it/s]"
     ]
    },
    {
     "name": "stdout",
     "output_type": "stream",
     "text": [
      "Epoch 0: Loss = 1.76009309\n"
     ]
    },
    {
     "name": "stderr",
     "output_type": "stream",
     "text": [
      " 11%|█         | 11/100 [00:04<00:39,  2.26it/s]"
     ]
    },
    {
     "name": "stdout",
     "output_type": "stream",
     "text": [
      "Epoch 10: Loss = 1.35387075\n"
     ]
    },
    {
     "name": "stderr",
     "output_type": "stream",
     "text": [
      " 21%|██        | 21/100 [00:09<00:35,  2.24it/s]"
     ]
    },
    {
     "name": "stdout",
     "output_type": "stream",
     "text": [
      "Epoch 20: Loss = 1.11331773\n"
     ]
    },
    {
     "name": "stderr",
     "output_type": "stream",
     "text": [
      " 31%|███       | 31/100 [00:13<00:29,  2.35it/s]"
     ]
    },
    {
     "name": "stdout",
     "output_type": "stream",
     "text": [
      "Epoch 30: Loss = 1.01991582\n"
     ]
    },
    {
     "name": "stderr",
     "output_type": "stream",
     "text": [
      " 41%|████      | 41/100 [00:17<00:24,  2.36it/s]"
     ]
    },
    {
     "name": "stdout",
     "output_type": "stream",
     "text": [
      "Epoch 40: Loss = 0.95616627\n"
     ]
    },
    {
     "name": "stderr",
     "output_type": "stream",
     "text": [
      " 51%|█████     | 51/100 [00:22<00:22,  2.19it/s]"
     ]
    },
    {
     "name": "stdout",
     "output_type": "stream",
     "text": [
      "Epoch 50: Loss = 0.92581314\n"
     ]
    },
    {
     "name": "stderr",
     "output_type": "stream",
     "text": [
      " 61%|██████    | 61/100 [00:26<00:16,  2.39it/s]"
     ]
    },
    {
     "name": "stdout",
     "output_type": "stream",
     "text": [
      "Epoch 60: Loss = 0.91019702\n"
     ]
    },
    {
     "name": "stderr",
     "output_type": "stream",
     "text": [
      " 71%|███████   | 71/100 [00:30<00:12,  2.39it/s]"
     ]
    },
    {
     "name": "stdout",
     "output_type": "stream",
     "text": [
      "Epoch 70: Loss = 0.89770651\n"
     ]
    },
    {
     "name": "stderr",
     "output_type": "stream",
     "text": [
      " 81%|████████  | 81/100 [00:35<00:08,  2.32it/s]"
     ]
    },
    {
     "name": "stdout",
     "output_type": "stream",
     "text": [
      "Epoch 80: Loss = 0.88928169\n"
     ]
    },
    {
     "name": "stderr",
     "output_type": "stream",
     "text": [
      " 91%|█████████ | 91/100 [00:39<00:04,  2.21it/s]"
     ]
    },
    {
     "name": "stdout",
     "output_type": "stream",
     "text": [
      "Epoch 90: Loss = 0.88271171\n"
     ]
    },
    {
     "name": "stderr",
     "output_type": "stream",
     "text": [
      "100%|██████████| 100/100 [00:43<00:00,  2.30it/s]\n"
     ]
    }
   ],
   "source": [
    "def closure():\n",
    "    optimizer.zero_grad()\n",
    "    pred = model(torch.FloatTensor(X_train))\n",
    "    loss = loss_fn(pred, torch.FloatTensor(y_train))\n",
    "    loss.backward()\n",
    "    return loss\n",
    "\n",
    "optimizer = torch.optim.LBFGS(model.parameters(), lr=1, max_iter=20)\n",
    "\n",
    "# L-BFGS requires a different training loop\n",
    "losses = []\n",
    "for epoch in tqdm(range(100)):  # Fewer epochs needed\n",
    "    def closure():\n",
    "        optimizer.zero_grad()\n",
    "        pred = model(torch.FloatTensor(X_train))\n",
    "        loss = loss_fn(pred, torch.FloatTensor(y_train))\n",
    "        loss.backward()\n",
    "        losses.append(loss.item())\n",
    "        return loss\n",
    "    \n",
    "    optimizer.step(closure)\n",
    "    \n",
    "    if epoch % 10 == 0:\n",
    "        with torch.no_grad():\n",
    "            pred = model(torch.FloatTensor(X_train))\n",
    "            loss = loss_fn(pred, torch.FloatTensor(y_train))\n",
    "            print(f\"Epoch {epoch}: Loss = {loss.item():.8f}\")"
   ]
  },
  {
   "cell_type": "code",
   "execution_count": null,
   "id": "258d63a6",
   "metadata": {},
   "outputs": [
    {
     "name": "stdout",
     "output_type": "stream",
     "text": [
      "Backwards Loss: 1.837545\n",
      "Position Loss: 0.195040\n",
      "Test Loss: 0.901144\n"
     ]
    }
   ],
   "source": [
    "optimizer = torch.optim.Adam(model.parameters(), lr=1e-2)\n",
    "loss_fn = torch.nn.MSELoss()\n",
    "\n",
    "losses = train_model(model, optimizer, loss_fn, X_train, y_train, epochs=1000, batch_size=2048)\n",
    "evaluate_model(model, loss_fn, X_test, y_test, dataset, matrix=True)"
   ]
  },
  {
   "cell_type": "code",
   "execution_count": 6,
   "id": "bb8008c9",
   "metadata": {},
   "outputs": [
    {
     "data": {
      "text/plain": [
       "LinearModule(\n",
       "  (network): Sequential(\n",
       "    (0): Linear(in_features=7, out_features=40, bias=True)\n",
       "    (1): Sigmoid()\n",
       "    (2): Linear(in_features=40, out_features=7, bias=True)\n",
       "  )\n",
       ")"
      ]
     },
     "execution_count": 6,
     "metadata": {},
     "output_type": "execute_result"
    }
   ],
   "source": [
    "model"
   ]
  }
 ],
 "metadata": {
  "kernelspec": {
   "display_name": "drake-env (3.13.7)",
   "language": "python",
   "name": "python3"
  },
  "language_info": {
   "codemirror_mode": {
    "name": "ipython",
    "version": 3
   },
   "file_extension": ".py",
   "mimetype": "text/x-python",
   "name": "python",
   "nbconvert_exporter": "python",
   "pygments_lexer": "ipython3",
   "version": "3.13.7"
  }
 },
 "nbformat": 4,
 "nbformat_minor": 5
}
