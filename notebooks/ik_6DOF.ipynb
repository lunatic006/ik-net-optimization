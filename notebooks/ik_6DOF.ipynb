{
 "cells": [
  {
   "cell_type": "code",
   "execution_count": 1,
   "id": "ee530f51",
   "metadata": {},
   "outputs": [],
   "source": [
    "import os, sys\n",
    "parent_dir = os.path.abspath(os.path.join(os.curdir, '..'))\n",
    "if parent_dir not in sys.path:\n",
    "    sys.path.append(parent_dir)\n",
    "import numpy as np\n",
    "from src.ik_net import *\n",
    "from pydrake.all import (\n",
    "    MultibodyPlant,\n",
    "    StartMeshcat,\n",
    ")\n",
    "from src.utils import RepoDir, BuildEnv, extract_xyzrpy\n"
   ]
  },
  {
   "cell_type": "code",
   "execution_count": null,
   "id": "19a26560",
   "metadata": {},
   "outputs": [
    {
     "name": "stderr",
     "output_type": "stream",
     "text": [
      "INFO:drake:Meshcat listening for connections at http://localhost:7002\n",
      "100%|██████████| 78125/78125 [00:00<00:00, 114083.74it/s]\n"
     ]
    },
    {
     "name": "stdout",
     "output_type": "stream",
     "text": [
      "Training with batching (batch_size=2048)\n"
     ]
    },
    {
     "name": "stderr",
     "output_type": "stream",
     "text": [
      "  0%|          | 2/1000 [00:00<03:26,  4.83it/s]"
     ]
    },
    {
     "name": "stdout",
     "output_type": "stream",
     "text": [
      "Epoch 0, Loss: 1.912954\n"
     ]
    },
    {
     "name": "stderr",
     "output_type": "stream",
     "text": [
      " 10%|█         | 102/1000 [00:18<02:37,  5.70it/s]"
     ]
    },
    {
     "name": "stdout",
     "output_type": "stream",
     "text": [
      "Epoch 100, Loss: 0.933634\n"
     ]
    },
    {
     "name": "stderr",
     "output_type": "stream",
     "text": [
      " 20%|██        | 202/1000 [00:36<02:19,  5.71it/s]"
     ]
    },
    {
     "name": "stdout",
     "output_type": "stream",
     "text": [
      "Epoch 200, Loss: 0.897446\n"
     ]
    },
    {
     "name": "stderr",
     "output_type": "stream",
     "text": [
      " 30%|███       | 302/1000 [00:54<02:04,  5.62it/s]"
     ]
    },
    {
     "name": "stdout",
     "output_type": "stream",
     "text": [
      "Epoch 300, Loss: 0.877946\n"
     ]
    },
    {
     "name": "stderr",
     "output_type": "stream",
     "text": [
      " 40%|████      | 402/1000 [01:13<01:47,  5.56it/s]"
     ]
    },
    {
     "name": "stdout",
     "output_type": "stream",
     "text": [
      "Epoch 400, Loss: 0.868835\n"
     ]
    },
    {
     "name": "stderr",
     "output_type": "stream",
     "text": [
      " 50%|█████     | 502/1000 [01:32<01:33,  5.33it/s]"
     ]
    },
    {
     "name": "stdout",
     "output_type": "stream",
     "text": [
      "Epoch 500, Loss: 0.862257\n"
     ]
    },
    {
     "name": "stderr",
     "output_type": "stream",
     "text": [
      " 60%|██████    | 602/1000 [01:51<01:12,  5.50it/s]"
     ]
    },
    {
     "name": "stdout",
     "output_type": "stream",
     "text": [
      "Epoch 600, Loss: 0.857535\n"
     ]
    },
    {
     "name": "stderr",
     "output_type": "stream",
     "text": [
      " 70%|███████   | 702/1000 [02:10<00:54,  5.42it/s]"
     ]
    },
    {
     "name": "stdout",
     "output_type": "stream",
     "text": [
      "Epoch 700, Loss: 0.857535\n"
     ]
    },
    {
     "name": "stderr",
     "output_type": "stream",
     "text": [
      " 80%|████████  | 802/1000 [02:30<00:36,  5.36it/s]"
     ]
    },
    {
     "name": "stdout",
     "output_type": "stream",
     "text": [
      "Epoch 800, Loss: 0.854303\n"
     ]
    },
    {
     "name": "stderr",
     "output_type": "stream",
     "text": [
      " 90%|█████████ | 902/1000 [02:49<00:17,  5.60it/s]"
     ]
    },
    {
     "name": "stdout",
     "output_type": "stream",
     "text": [
      "Epoch 900, Loss: 0.851382\n"
     ]
    },
    {
     "name": "stderr",
     "output_type": "stream",
     "text": [
      "100%|██████████| 1000/1000 [03:07<00:00,  5.33it/s]\n"
     ]
    },
    {
     "ename": "ValueError",
     "evalue": "operands could not be broadcast together with shapes (6,) (12,) ",
     "output_type": "error",
     "traceback": [
      "\u001b[31m---------------------------------------------------------------------------\u001b[39m",
      "\u001b[31mValueError\u001b[39m                                Traceback (most recent call last)",
      "\u001b[36mCell\u001b[39m\u001b[36m \u001b[39m\u001b[32mIn[4]\u001b[39m\u001b[32m, line 22\u001b[39m\n\u001b[32m     18\u001b[39m X_train, X_test, y_train, y_test = train_test_split(X, y, test_size=\u001b[32m0.2\u001b[39m)\n\u001b[32m     21\u001b[39m losses = train_model(model, optimizer, loss_fn, X_train, y_train, epochs=\u001b[32m1000\u001b[39m, batch_size=\u001b[32m2048\u001b[39m)\n\u001b[32m---> \u001b[39m\u001b[32m22\u001b[39m \u001b[43mevaluate_model\u001b[49m\u001b[43m(\u001b[49m\u001b[43mmodel\u001b[49m\u001b[43m,\u001b[49m\u001b[43m \u001b[49m\u001b[43mloss_fn\u001b[49m\u001b[43m,\u001b[49m\u001b[43m \u001b[49m\u001b[43mX_test\u001b[49m\u001b[43m,\u001b[49m\u001b[43m \u001b[49m\u001b[43my_test\u001b[49m\u001b[43m,\u001b[49m\u001b[43m \u001b[49m\u001b[43mdataset\u001b[49m\u001b[43m)\u001b[49m\n",
      "\u001b[36mFile \u001b[39m\u001b[32m~/Projects/Urops/Drake/code/ik-net-optimization/src/ik_net.py:161\u001b[39m, in \u001b[36mevaluate_model\u001b[39m\u001b[34m(model, loss_fn, X_test, y_test, dataset, matrix)\u001b[39m\n\u001b[32m    156\u001b[39m     \u001b[38;5;66;03m# if i % 100 == 0:\u001b[39;00m\n\u001b[32m    157\u001b[39m     \u001b[38;5;66;03m#     print(f\"End Effector Pose: {pose_flatten}\")\u001b[39;00m\n\u001b[32m    158\u001b[39m     \u001b[38;5;66;03m#     print(f\"Target Pose: {X_tensor.numpy()[i][:-1]}\")\u001b[39;00m\n\u001b[32m    159\u001b[39m     \u001b[38;5;66;03m#     print(np.linalg.norm(pose_flatten - X_tensor.numpy()[i][:-1]))\u001b[39;00m\n\u001b[32m    160\u001b[39m     position_loss[i] = np.linalg.norm(pose.translation() - X_tensor.numpy()[i][:\u001b[32m3\u001b[39m])\n\u001b[32m--> \u001b[39m\u001b[32m161\u001b[39m     backwards_loss[i] = np.linalg.norm(\u001b[43mpose_flatten\u001b[49m\u001b[43m \u001b[49m\u001b[43m-\u001b[49m\u001b[43m \u001b[49m\u001b[43mX_tensor\u001b[49m\u001b[43m.\u001b[49m\u001b[43mnumpy\u001b[49m\u001b[43m(\u001b[49m\u001b[43m)\u001b[49m\u001b[43m[\u001b[49m\u001b[43mi\u001b[49m\u001b[43m]\u001b[49m\u001b[43m[\u001b[49m\u001b[43m:\u001b[49m\u001b[43m-\u001b[49m\u001b[32;43m1\u001b[39;49m\u001b[43m]\u001b[49m)\n\u001b[32m    163\u001b[39m \u001b[38;5;28mprint\u001b[39m(\u001b[33mf\u001b[39m\u001b[33m\"\u001b[39m\u001b[33mBackwards Loss: \u001b[39m\u001b[38;5;132;01m{\u001b[39;00mnp.mean(backwards_loss)\u001b[38;5;132;01m:\u001b[39;00m\u001b[33m.6f\u001b[39m\u001b[38;5;132;01m}\u001b[39;00m\u001b[33m\"\u001b[39m)\n\u001b[32m    164\u001b[39m \u001b[38;5;28mprint\u001b[39m(\u001b[33mf\u001b[39m\u001b[33m\"\u001b[39m\u001b[33mPosition Loss: \u001b[39m\u001b[38;5;132;01m{\u001b[39;00mnp.mean(position_loss)\u001b[38;5;132;01m:\u001b[39;00m\u001b[33m.6f\u001b[39m\u001b[38;5;132;01m}\u001b[39;00m\u001b[33m\"\u001b[39m)\n",
      "\u001b[31mValueError\u001b[39m: operands could not be broadcast together with shapes (6,) (12,) "
     ]
    }
   ],
   "source": [
    "meshcat = StartMeshcat()\n",
    "diagram = BuildEnv(meshcat, directives_file = os.path.join(RepoDir(), \"models/iiwa_collision.yaml\"))\n",
    "ee_frame = diagram.GetSubsystemByName(\"plant\").GetFrameByName(\"body\")\n",
    "\n",
    "dataset = IKDataset(diagram, ee_frame)\n",
    "\n",
    "joint_angles, targets = dataset.create_data(5**7, manifold = [1, 1, 1], matrix=True)\n",
    "\n",
    "X = np.concatenate([targets, joint_angles[:, 0:1]], axis=1)\n",
    "y = joint_angles\n",
    "\n",
    "model = LinearModule(X.shape[1], 7, hidden_layers = [64, 64], dropout_rate=0.0)\n",
    "optimizer = torch.optim.Adam(model.parameters(), lr=1e-2)\n",
    "loss_fn = torch.nn.MSELoss()\n",
    "\n",
    "\n",
    "\n",
    "X_train, X_test, y_train, y_test = train_test_split(X, y, test_size=0.2)\n",
    "\n",
    "\n",
    "losses = train_model(model, optimizer, loss_fn, X_train, y_train, epochs=1000, batch_size=2048)\n",
    "evaluate_model(model, loss_fn, X_test, y_test, dataset)"
   ]
  },
  {
   "cell_type": "code",
   "execution_count": 10,
   "id": "273b71f4",
   "metadata": {},
   "outputs": [
    {
     "name": "stdout",
     "output_type": "stream",
     "text": [
      "(15625, 13) (15625, 7)\n",
      "Backwards Loss: 1.837712\n",
      "Position Loss: 0.205746\n",
      "Test Loss: 0.905109\n"
     ]
    }
   ],
   "source": [
    "print(X_test.shape, y_test.shape)\n",
    "evaluate_model(model, loss_fn, X_test, y_test, dataset, matrix=True)\n"
   ]
  },
  {
   "cell_type": "code",
   "execution_count": 3,
   "id": "5fd56e5f",
   "metadata": {},
   "outputs": [
    {
     "ename": "NameError",
     "evalue": "name 'losses' is not defined",
     "output_type": "error",
     "traceback": [
      "\u001b[31m---------------------------------------------------------------------------\u001b[39m",
      "\u001b[31mNameError\u001b[39m                                 Traceback (most recent call last)",
      "\u001b[36mCell\u001b[39m\u001b[36m \u001b[39m\u001b[32mIn[3]\u001b[39m\u001b[32m, line 3\u001b[39m\n\u001b[32m      1\u001b[39m \u001b[38;5;28;01mimport\u001b[39;00m\u001b[38;5;250m \u001b[39m\u001b[34;01mmatplotlib\u001b[39;00m\u001b[34;01m.\u001b[39;00m\u001b[34;01mpyplot\u001b[39;00m\u001b[38;5;250m \u001b[39m\u001b[38;5;28;01mas\u001b[39;00m\u001b[38;5;250m \u001b[39m\u001b[34;01mplt\u001b[39;00m\n\u001b[32m----> \u001b[39m\u001b[32m3\u001b[39m plt.plot(\u001b[43mlosses\u001b[49m)\n\u001b[32m      4\u001b[39m plt.xlabel(\u001b[33m'\u001b[39m\u001b[33mEpoch\u001b[39m\u001b[33m'\u001b[39m)\n\u001b[32m      5\u001b[39m plt.ylabel(\u001b[33m'\u001b[39m\u001b[33mLoss\u001b[39m\u001b[33m'\u001b[39m)\n",
      "\u001b[31mNameError\u001b[39m: name 'losses' is not defined"
     ]
    }
   ],
   "source": [
    "import matplotlib.pyplot as plt\n",
    "\n",
    "plt.plot(losses)\n",
    "plt.xlabel('Epoch')\n",
    "plt.ylabel('Loss')\n",
    "plt.title('Training Loss')\n",
    "# plt.yscale('log')  # optional: useful if loss decreases a lot\n",
    "plt.show()"
   ]
  },
  {
   "cell_type": "code",
   "execution_count": null,
   "id": "fbd47b0c",
   "metadata": {},
   "outputs": [
    {
     "name": "stdout",
     "output_type": "stream",
     "text": [
      "tensor([ 2.6931,  1.6616, -1.9657,  0.9957, -2.2489,  0.6748,  2.9113])\n"
     ]
    },
    {
     "data": {
      "text/plain": [
       "tensor([ 2.6505,  2.0579, -1.6534,  0.7292,  0.1248,  0.7395, -0.0949],\n",
       "       grad_fn=<ViewBackward0>)"
      ]
     },
     "execution_count": 9,
     "metadata": {},
     "output_type": "execute_result"
    }
   ],
   "source": [
    "X_tensor = torch.FloatTensor(X)\n",
    "y_tensor = torch.FloatTensor(y)\n",
    "\n",
    "optimizer.zero_grad()\n",
    "print(y_tensor[1])\n",
    "model(X_tensor[1])"
   ]
  },
  {
   "cell_type": "code",
   "execution_count": null,
   "id": "55c9d860",
   "metadata": {},
   "outputs": [
    {
     "data": {
      "text/plain": [
       "array([ 2.69314317,  1.66155257, -1.96566807,  0.99573811, -2.24894115,\n",
       "        0.67480338,  2.91133211])"
      ]
     },
     "execution_count": 13,
     "metadata": {},
     "output_type": "execute_result"
    }
   ],
   "source": [
    "joint_angles[1]"
   ]
  },
  {
   "cell_type": "code",
   "execution_count": null,
   "id": "1e59878c",
   "metadata": {},
   "outputs": [
    {
     "name": "stderr",
     "output_type": "stream",
     "text": [
      "  0%|          | 0/100 [00:00<?, ?it/s]/Users/lunatang/Projects/Urops/Drake/code/ik-net-optimization/drake-env/lib/python3.13/site-packages/torch/optim/lbfgs.py:457: UserWarning: Converting a tensor with requires_grad=True to a scalar may lead to unexpected behavior.\n",
      "Consider using tensor.detach() first. (Triggered internally at /Users/runner/work/pytorch/pytorch/pytorch/torch/csrc/autograd/generated/python_variable_methods.cpp:836.)\n",
      "  loss = float(closure())\n",
      "  1%|          | 1/100 [00:00<00:49,  1.98it/s]"
     ]
    },
    {
     "name": "stdout",
     "output_type": "stream",
     "text": [
      "Epoch 0: Loss = 1.76009309\n"
     ]
    },
    {
     "name": "stderr",
     "output_type": "stream",
     "text": [
      " 11%|█         | 11/100 [00:04<00:39,  2.26it/s]"
     ]
    },
    {
     "name": "stdout",
     "output_type": "stream",
     "text": [
      "Epoch 10: Loss = 1.35387075\n"
     ]
    },
    {
     "name": "stderr",
     "output_type": "stream",
     "text": [
      " 21%|██        | 21/100 [00:09<00:35,  2.24it/s]"
     ]
    },
    {
     "name": "stdout",
     "output_type": "stream",
     "text": [
      "Epoch 20: Loss = 1.11331773\n"
     ]
    },
    {
     "name": "stderr",
     "output_type": "stream",
     "text": [
      " 31%|███       | 31/100 [00:13<00:29,  2.35it/s]"
     ]
    },
    {
     "name": "stdout",
     "output_type": "stream",
     "text": [
      "Epoch 30: Loss = 1.01991582\n"
     ]
    },
    {
     "name": "stderr",
     "output_type": "stream",
     "text": [
      " 41%|████      | 41/100 [00:17<00:24,  2.36it/s]"
     ]
    },
    {
     "name": "stdout",
     "output_type": "stream",
     "text": [
      "Epoch 40: Loss = 0.95616627\n"
     ]
    },
    {
     "name": "stderr",
     "output_type": "stream",
     "text": [
      " 51%|█████     | 51/100 [00:22<00:22,  2.19it/s]"
     ]
    },
    {
     "name": "stdout",
     "output_type": "stream",
     "text": [
      "Epoch 50: Loss = 0.92581314\n"
     ]
    },
    {
     "name": "stderr",
     "output_type": "stream",
     "text": [
      " 61%|██████    | 61/100 [00:26<00:16,  2.39it/s]"
     ]
    },
    {
     "name": "stdout",
     "output_type": "stream",
     "text": [
      "Epoch 60: Loss = 0.91019702\n"
     ]
    },
    {
     "name": "stderr",
     "output_type": "stream",
     "text": [
      " 71%|███████   | 71/100 [00:30<00:12,  2.39it/s]"
     ]
    },
    {
     "name": "stdout",
     "output_type": "stream",
     "text": [
      "Epoch 70: Loss = 0.89770651\n"
     ]
    },
    {
     "name": "stderr",
     "output_type": "stream",
     "text": [
      " 81%|████████  | 81/100 [00:35<00:08,  2.32it/s]"
     ]
    },
    {
     "name": "stdout",
     "output_type": "stream",
     "text": [
      "Epoch 80: Loss = 0.88928169\n"
     ]
    },
    {
     "name": "stderr",
     "output_type": "stream",
     "text": [
      " 91%|█████████ | 91/100 [00:39<00:04,  2.21it/s]"
     ]
    },
    {
     "name": "stdout",
     "output_type": "stream",
     "text": [
      "Epoch 90: Loss = 0.88271171\n"
     ]
    },
    {
     "name": "stderr",
     "output_type": "stream",
     "text": [
      "100%|██████████| 100/100 [00:43<00:00,  2.30it/s]\n"
     ]
    }
   ],
   "source": [
    "def closure():\n",
    "    optimizer.zero_grad()\n",
    "    pred = model(torch.FloatTensor(X_train))\n",
    "    loss = loss_fn(pred, torch.FloatTensor(y_train))\n",
    "    loss.backward()\n",
    "    return loss\n",
    "\n",
    "optimizer = torch.optim.LBFGS(model.parameters(), lr=1, max_iter=20)\n",
    "\n",
    "# L-BFGS requires a different training loop\n",
    "losses = []\n",
    "for epoch in tqdm(range(100)):  # Fewer epochs needed\n",
    "    def closure():\n",
    "        optimizer.zero_grad()\n",
    "        pred = model(torch.FloatTensor(X_train))\n",
    "        loss = loss_fn(pred, torch.FloatTensor(y_train))\n",
    "        loss.backward()\n",
    "        losses.append(loss.item())\n",
    "        return loss\n",
    "    \n",
    "    optimizer.step(closure)\n",
    "    \n",
    "    if epoch % 10 == 0:\n",
    "        with torch.no_grad():\n",
    "            pred = model(torch.FloatTensor(X_train))\n",
    "            loss = loss_fn(pred, torch.FloatTensor(y_train))\n",
    "            print(f\"Epoch {epoch}: Loss = {loss.item():.8f}\")"
   ]
  },
  {
   "cell_type": "code",
   "execution_count": null,
   "id": "258d63a6",
   "metadata": {},
   "outputs": [
    {
     "name": "stdout",
     "output_type": "stream",
     "text": [
      "Backwards Loss: 1.837545\n",
      "Position Loss: 0.195040\n",
      "Test Loss: 0.901144\n"
     ]
    }
   ],
   "source": [
    "optimizer = torch.optim.Adam(model.parameters(), lr=1e-2)\n",
    "loss_fn = torch.nn.MSELoss()\n",
    "\n",
    "losses = train_model(model, optimizer, loss_fn, X_train, y_train, epochs=1000, batch_size=2048)\n",
    "evaluate_model(model, loss_fn, X_test, y_test, dataset, matrix=True)"
   ]
  },
  {
   "cell_type": "code",
   "execution_count": null,
   "id": "bb8008c9",
   "metadata": {},
   "outputs": [
    {
     "data": {
      "text/plain": [
       "LinearModule(\n",
       "  (network): Sequential(\n",
       "    (0): Linear(in_features=7, out_features=40, bias=True)\n",
       "    (1): Sigmoid()\n",
       "    (2): Linear(in_features=40, out_features=7, bias=True)\n",
       "  )\n",
       ")"
      ]
     },
     "execution_count": 6,
     "metadata": {},
     "output_type": "execute_result"
    }
   ],
   "source": [
    "model"
   ]
  }
 ],
 "metadata": {
  "kernelspec": {
   "display_name": "drake-env (3.13.7)",
   "language": "python",
   "name": "python3"
  },
  "language_info": {
   "codemirror_mode": {
    "name": "ipython",
    "version": 3
   },
   "file_extension": ".py",
   "mimetype": "text/x-python",
   "name": "python",
   "nbconvert_exporter": "python",
   "pygments_lexer": "ipython3",
   "version": "3.13.7"
  }
 },
 "nbformat": 4,
 "nbformat_minor": 5
}
